{
 "cells": [
  {
   "cell_type": "code",
   "execution_count": 1,
   "id": "1430e0fc",
   "metadata": {},
   "outputs": [],
   "source": [
    "#Displaying \"Hello World!\"on the screen "
   ]
  },
  {
   "cell_type": "code",
   "execution_count": 2,
   "id": "0f414290",
   "metadata": {},
   "outputs": [],
   "source": [
    "#print is a Python defined default function,we are simply using it here"
   ]
  },
  {
   "cell_type": "code",
   "execution_count": 3,
   "id": "8185fdfe",
   "metadata": {},
   "outputs": [
    {
     "name": "stdout",
     "output_type": "stream",
     "text": [
      "Hello World!\n"
     ]
    }
   ],
   "source": [
    "print(\"Hello World!\")"
   ]
  },
  {
   "cell_type": "code",
   "execution_count": null,
   "id": "1130e4d9",
   "metadata": {},
   "outputs": [],
   "source": []
  }
 ],
 "metadata": {
  "kernelspec": {
   "display_name": "Python 3",
   "language": "python",
   "name": "python3"
  },
  "language_info": {
   "codemirror_mode": {
    "name": "ipython",
    "version": 3
   },
   "file_extension": ".py",
   "mimetype": "text/x-python",
   "name": "python",
   "nbconvert_exporter": "python",
   "pygments_lexer": "ipython3",
   "version": "3.8.8"
  }
 },
 "nbformat": 4,
 "nbformat_minor": 5
}
